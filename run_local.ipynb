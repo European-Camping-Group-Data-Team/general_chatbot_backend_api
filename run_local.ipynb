{
 "cells": [
  {
   "cell_type": "code",
   "execution_count": 13,
   "metadata": {},
   "outputs": [],
   "source": [
    "import requests\n",
    "import json\n",
    "\n",
    "# Define the URL of your Flask endpoint\n",
    "url = 'http://127.0.0.1:5000/chat'"
   ]
  },
  {
   "cell_type": "code",
   "execution_count": 14,
   "metadata": {},
   "outputs": [
    {
     "name": "stdout",
     "output_type": "stream",
     "text": [
      "Response : {'error': 'Invalid request, \"message\" key is missing'}\n"
     ]
    }
   ],
   "source": [
    "# Test incorrect json\n",
    "payload = {   \n",
    "}\n",
    "\n",
    "# Send the second POST request\n",
    "response = requests.post(url, json=payload)\n",
    "print('Response :', response.json())"
   ]
  },
  {
   "cell_type": "code",
   "execution_count": null,
   "metadata": {},
   "outputs": [],
   "source": [
    "#Test session history"
   ]
  },
  {
   "cell_type": "code",
   "execution_count": 17,
   "metadata": {},
   "outputs": [],
   "source": [
    "session = requests.Session()"
   ]
  },
  {
   "cell_type": "code",
   "execution_count": 18,
   "metadata": {},
   "outputs": [
    {
     "name": "stdout",
     "output_type": "stream",
     "text": [
      "Response 1: {'response': \"Sure, I'd be happy to tell you a joke. Can you give me a topic for the joke you want me to tell?\"}\n"
     ]
    }
   ],
   "source": [
    "payload1 = {\"message\": \"Tell me a joke?\",\n",
    "           \"model_id\":\"google/gemma-7b-it\"   \n",
    "}\n",
    "\n",
    "# Send the first POST request\n",
    "response1 = session.post(url, json=payload1)\n",
    "print('Response 1:', response1.json())"
   ]
  },
  {
   "cell_type": "code",
   "execution_count": 20,
   "metadata": {},
   "outputs": [
    {
     "name": "stdout",
     "output_type": "stream",
     "text": [
      "Response 2: {'response': 'Sorry, I do not have the ability to understand or speak French. Please provide me with the question in English and I will do my best to answer.'}\n"
     ]
    }
   ],
   "source": [
    "# Define the JSON payload for the second request\n",
    "payload2 = {\n",
    "    'message': 'in french',\n",
    "    'model_id':\"google/gemma-7b-it\"  \n",
    "}\n",
    "\n",
    "# Send the second POST request\n",
    "response2 = session.post(url, json=payload2)\n",
    "print('Response 2:', response2.json())"
   ]
  },
  {
   "cell_type": "code",
   "execution_count": 21,
   "metadata": {},
   "outputs": [],
   "source": [
    "# test switch model"
   ]
  },
  {
   "cell_type": "code",
   "execution_count": 23,
   "metadata": {},
   "outputs": [
    {
     "name": "stdout",
     "output_type": "stream",
     "text": [
      "Response 3: {'response': \"Here's another one:\\n\\nWhy don't scientists trust atoms?\\n\\nBecause they make up everything!\"}\n"
     ]
    }
   ],
   "source": [
    "# Define the JSON payload for the second request\n",
    "payload3 = {\n",
    "    'message': 'tell me a joke',\n",
    "    'model_id':\"\"  \n",
    "}\n",
    "\n",
    "# Send the second POST request\n",
    "response3 = session.post(url, json=payload3)\n",
    "print('Response 3:', response3.json())"
   ]
  }
 ],
 "metadata": {
  "kernelspec": {
   "display_name": "venv",
   "language": "python",
   "name": "python3"
  },
  "language_info": {
   "codemirror_mode": {
    "name": "ipython",
    "version": 3
   },
   "file_extension": ".py",
   "mimetype": "text/x-python",
   "name": "python",
   "nbconvert_exporter": "python",
   "pygments_lexer": "ipython3",
   "version": "3.10.14"
  }
 },
 "nbformat": 4,
 "nbformat_minor": 2
}
