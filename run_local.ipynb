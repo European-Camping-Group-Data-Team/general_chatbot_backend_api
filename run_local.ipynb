{
 "cells": [
  {
   "cell_type": "code",
   "execution_count": 12,
   "metadata": {},
   "outputs": [],
   "source": [
    "import requests\n",
    "\n",
    "# Define the URL of your Flask endpoint\n",
    "url = 'http://127.0.0.1:8503' #'http://34.78.108.153:8503' # \n",
    "chat_url = f'{url}/chat'\n",
    "session_url = f'{url}/new_session'\n",
    "stream_chat_url = f'{url}/chat-stream'"
   ]
  },
  {
   "cell_type": "markdown",
   "metadata": {},
   "source": [
    "# Test session_id"
   ]
  },
  {
   "cell_type": "code",
   "execution_count": 37,
   "metadata": {},
   "outputs": [
    {
     "name": "stdout",
     "output_type": "stream",
     "text": [
      "Response : {'detail': [{'loc': ['body', 'user_id'], 'msg': 'field required', 'type': 'value_error.missing'}]}\n"
     ]
    }
   ],
   "source": [
    "# Test incorrect json\n",
    "payload = {   \n",
    "}\n",
    "\n",
    "# Send the second POST request\n",
    "response = requests.post(session_url, json=payload)\n",
    "print('Response :', response.json())"
   ]
  },
  {
   "cell_type": "code",
   "execution_count": 13,
   "metadata": {},
   "outputs": [
    {
     "name": "stdout",
     "output_type": "stream",
     "text": [
      "session_id : ef57bee4-ed97-42c0-a4ff-e6f497efafd7\n",
      "session_id_2 : f58f3149-7067-49af-985a-909e6493ee06\n"
     ]
    }
   ],
   "source": [
    "# Test incorrect json\n",
    "payload = { 'user_id': '123'\n",
    "}\n",
    "\n",
    "# Send the second POST request\n",
    "session_id = requests.post(session_url, json=payload).json()\n",
    "session_id_2 = requests.post(session_url, json=payload).json()\n",
    "session_id_3 = requests.post(session_url, json=payload).json()\n",
    "print('session_id :', session_id)\n",
    "print('session_id_2 :', session_id_2)"
   ]
  },
  {
   "cell_type": "markdown",
   "metadata": {},
   "source": [
    "# Test chat"
   ]
  },
  {
   "cell_type": "code",
   "execution_count": 21,
   "metadata": {},
   "outputs": [
    {
     "name": "stdout",
     "output_type": "stream",
     "text": [
      "Response : {'detail': [{'type': 'missing', 'loc': ['body', 'user_id'], 'msg': 'Field required', 'input': {}}, {'type': 'missing', 'loc': ['body', 'session_id'], 'msg': 'Field required', 'input': {}}, {'type': 'missing', 'loc': ['body', 'message'], 'msg': 'Field required', 'input': {}}]}\n"
     ]
    }
   ],
   "source": [
    "# Test incorrect json\n",
    "payload = {   \n",
    "}\n",
    "\n",
    "# Send the second POST request\n",
    "response = requests.post(chat_url, json=payload)\n",
    "print('Response :', response.json())"
   ]
  },
  {
   "cell_type": "code",
   "execution_count": 31,
   "metadata": {},
   "outputs": [
    {
     "name": "stdout",
     "output_type": "stream",
     "text": [
      "Response : {'user_id': '123', 'session_id': 'a85aa4eb-3ae4-428a-986f-38c88bed6da5', 'response': \"Here's one:\\n\\nWhy did the computer go to the doctor?\\n\\nBecause it had a virus!\"}\n"
     ]
    }
   ],
   "source": [
    "payload = { \n",
    "'user_id': '123',\n",
    "'session_id':session_id,\n",
    "'message' :\"tell me a joke\"  \n",
    "}\n",
    "\n",
    "# Send the second POST request\n",
    "response = requests.post(chat_url, json=payload)\n",
    "print('Response :', response.json())"
   ]
  },
  {
   "cell_type": "code",
   "execution_count": 11,
   "metadata": {},
   "outputs": [
    {
     "name": "stdout",
     "output_type": "stream",
     "text": [
      "Response : {'user_id': '123', 'session_id': 'b3ee7940-bcd2-4999-8f31-557a00890209', 'response': 'Puis-je vous donner une plaisanterie?\\n\\nVoici une petite plaisanterie :\\n\\nPourquoi la balle de golf est-elle déprimée?\\n\\nParce qu\\'elle est toujours dans les \"traps\"!'}\n"
     ]
    }
   ],
   "source": [
    "# test history\n",
    "payload = { \n",
    "'user_id': '123',\n",
    "'session_id':session_id,\n",
    "'message' :\"in french\"  \n",
    "}\n",
    "\n",
    "# Send the second POST request\n",
    "response = requests.post(chat_url, json=payload)\n",
    "print('Response :', response.json())"
   ]
  },
  {
   "cell_type": "code",
   "execution_count": 12,
   "metadata": {},
   "outputs": [
    {
     "name": "stdout",
     "output_type": "stream",
     "text": [
      "Response : {'user_id': '123', 'session_id': 'bb265698-b51f-4947-b45f-08e99785c64d', 'response': 'Bonjour! Je suis ECG AI, votre assistant intelligent dédié à fournir des réponses claires et concises pour répondre à vos questions générales. Je serai ravi de vous aider!\\n\\nAllez-y, posez votre question, et je ferai de mon mieux pour vous fournir une réponse claire et concise.'}\n"
     ]
    }
   ],
   "source": [
    "# test history with another id\n",
    "# test history\n",
    "payload = { \n",
    "'user_id': '123',\n",
    "'session_id':session_id_2,\n",
    "'message' :\"in french\"  \n",
    "}\n",
    "\n",
    "# Send the second POST request\n",
    "response = requests.post(chat_url, json=payload)\n",
    "print('Response :', response.json())"
   ]
  },
  {
   "cell_type": "code",
   "execution_count": 8,
   "metadata": {},
   "outputs": [
    {
     "name": "stdout",
     "output_type": "stream",
     "text": [
      "Response : {'detail': '401: Invalid session'}\n"
     ]
    }
   ],
   "source": [
    "# test history\n",
    "payload = { \n",
    "'user_id': '123',\n",
    "'session_id':session_id,\n",
    "'message' :\"encore\"  \n",
    "}\n",
    "\n",
    "# Send the second POST request\n",
    "response = requests.post(chat_url, json=payload)\n",
    "print('Response :', response.json())"
   ]
  },
  {
   "cell_type": "code",
   "execution_count": 28,
   "metadata": {},
   "outputs": [
    {
     "name": "stdout",
     "output_type": "stream",
     "text": [
      "Response : {'user_id': '123', 'session_id': 'ea0508e5-35fa-4fb4-9e3a-b57296ef597f', 'response': \"I see what you did there! You're asking me to do an encore, which is a musical term meaning an encore performance or an extra performance of a song. However, I'm an AI, I don't have the ability to perform music or do encore performances. But I'm happy to help you with any questions or tasks you have! What's on your mind?\"}\n"
     ]
    }
   ],
   "source": [
    "# test history\n",
    "payload = { \n",
    "'user_id': '123',\n",
    "'session_id':session_id,\n",
    "'message' :\"encore\"  \n",
    "}\n",
    "\n",
    "# Send the second POST request\n",
    "response = requests.post(chat_url, json=payload)\n",
    "print('Response :', response.json())"
   ]
  },
  {
   "cell_type": "markdown",
   "metadata": {},
   "source": [
    "# Test streaming"
   ]
  },
  {
   "cell_type": "code",
   "execution_count": 15,
   "metadata": {},
   "outputs": [
    {
     "name": "stdout",
     "output_type": "stream",
     "text": [
      "<Response [200]>\n"
     ]
    }
   ],
   "source": [
    "# Your payload\n",
    "payload = { \n",
    "    'user_id': '123',\n",
    "    'session_id': session_id,\n",
    "    'message': \"python example\"  \n",
    "}\n",
    "\n",
    "print(requests.post(stream_chat_url, json=payload))\n"
   ]
  },
  {
   "cell_type": "code",
   "execution_count": 16,
   "metadata": {},
   "outputs": [
    {
     "name": "stdout",
     "output_type": "stream",
     "text": [
      "Here's a simple Python example:\n",
      "```\n",
      "# Print Hello World\n",
      "print(\"Hello, World!\")\n",
      "# Ask for user's name\n",
      "name = input(\"What is your name? \")\n",
      "# Greet the user\n",
      "print(\"Hello, \" + name + \"!\")\n",
      "# Ask for a number\n",
      "num = int(input(\"Enter a number: \"))\n",
      "# Print the square of the number\n",
      "print(\"The square of \" + str(num) + \" is \" + str(num ** 2))\n",
      "```\n",
      "This example includes:\n",
      "1. Printing a message to the console\n",
      "2. Asking the user for their name and storing it in a variable\n",
      "3. Printing a personalized greeting\n",
      "4. Asking the user for a number and storing it in a variable\n",
      "5. Calculating and printing the square of the number\n",
      "You can run this code in a Python interpreter or save it to a file and run it as a script.\n"
     ]
    }
   ],
   "source": [
    "with requests.post(stream_chat_url, json=payload,stream=True) as response:\n",
    "    if response.status_code == 200:\n",
    "        for line in response.iter_lines():\n",
    "            if line:\n",
    "                print(line.decode('utf-8'))\n",
    "    else:\n",
    "        print(f\"Error: {response.status_code}\")"
   ]
  }
 ],
 "metadata": {
  "kernelspec": {
   "display_name": "venv",
   "language": "python",
   "name": "python3"
  },
  "language_info": {
   "codemirror_mode": {
    "name": "ipython",
    "version": 3
   },
   "file_extension": ".py",
   "mimetype": "text/x-python",
   "name": "python",
   "nbconvert_exporter": "python",
   "pygments_lexer": "ipython3",
   "version": "3.10.14"
  }
 },
 "nbformat": 4,
 "nbformat_minor": 2
}
