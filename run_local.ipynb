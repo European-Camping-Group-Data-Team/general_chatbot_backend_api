{
 "cells": [
  {
   "cell_type": "code",
   "execution_count": 1,
   "metadata": {},
   "outputs": [],
   "source": [
    "import requests\n",
    "import json\n",
    "\n",
    "# Define the URL of your Flask endpoint\n",
    "url = 'http://127.0.0.1:8502/chat'\n",
    "f_url = 'http://127.0.0.1:8000/chat'"
   ]
  },
  {
   "cell_type": "code",
   "execution_count": 2,
   "metadata": {},
   "outputs": [
    {
     "name": "stdout",
     "output_type": "stream",
     "text": [
      "Response : {'detail': [{'type': 'missing', 'loc': ['body', 'user_id'], 'msg': 'Field required', 'input': {}}, {'type': 'missing', 'loc': ['body', 'history'], 'msg': 'Field required', 'input': {}}]}\n"
     ]
    }
   ],
   "source": [
    "# Test incorrect json\n",
    "payload = {   \n",
    "}\n",
    "\n",
    "# Send the second POST request\n",
    "response = requests.post(f_url, json=payload)\n",
    "print('Response :', response.json())"
   ]
  },
  {
   "cell_type": "code",
   "execution_count": 3,
   "metadata": {},
   "outputs": [
    {
     "name": "stdout",
     "output_type": "stream",
     "text": [
      "Response : {'user_id': '123', 'response': 'Why did the scarecrow win an award? Because he was outstanding in his field!'}\n"
     ]
    }
   ],
   "source": [
    "payload = { \n",
    "'user_id': '123',\n",
    "'history' :[{'role': 'user', 'content': \"tell me a joke\"}]  \n",
    "}\n",
    "\n",
    "# Send the second POST request\n",
    "response = requests.post(f_url, json=payload)\n",
    "print('Response :', response.json())"
   ]
  },
  {
   "cell_type": "code",
   "execution_count": 2,
   "metadata": {},
   "outputs": [
    {
     "name": "stdout",
     "output_type": "stream",
     "text": [
      "Response : {'response': 'Invalid request, \"message\" key is missing'}\n"
     ]
    }
   ],
   "source": [
    "# Test incorrect json\n",
    "payload = {   \n",
    "}\n",
    "\n",
    "# Send the second POST request\n",
    "response = requests.post(url, json=payload)\n",
    "print('Response :', response.json())"
   ]
  },
  {
   "cell_type": "code",
   "execution_count": 3,
   "metadata": {},
   "outputs": [],
   "source": [
    "#Test session history"
   ]
  },
  {
   "cell_type": "code",
   "execution_count": 4,
   "metadata": {},
   "outputs": [],
   "source": [
    "session = requests.Session()"
   ]
  },
  {
   "cell_type": "code",
   "execution_count": 5,
   "metadata": {},
   "outputs": [
    {
     "name": "stdout",
     "output_type": "stream",
     "text": [
      "Response 1: {'response': \"Here's one:\\n\\nWhy don't eggs go to school?\\n\\nBecause they'd crack under the pressure!\\n\\nHope that made you crack a smile!\"}\n"
     ]
    }
   ],
   "source": [
    "payload1 = {\"message\": \"Tell me a joke?\",\n",
    "           \"model_id\":\"google/gemma-7b-it\"   \n",
    "}\n",
    "\n",
    "# Send the first POST request\n",
    "response1 = session.post(url, json=payload1)\n",
    "print('Response 1:', response1.json())"
   ]
  },
  {
   "cell_type": "code",
   "execution_count": 6,
   "metadata": {},
   "outputs": [
    {
     "name": "stdout",
     "output_type": "stream",
     "text": [
      "Response 2: {'response': \"Here's one in French:\\n\\nPourquoi les œufs ne vont-ils pas à l'école?\\n\\nParce qu'ils craqueraient sous la pression!\\n\\nEspère que cela vous a fait sourire!\"}\n"
     ]
    }
   ],
   "source": [
    "# Define the JSON payload for the second request\n",
    "payload2 = {\n",
    "    'message': 'in french',\n",
    "    'model_id':\"google/gemma-7b-it\"  \n",
    "}\n",
    "\n",
    "# Send the second POST request\n",
    "response2 = session.post(url, json=payload2)\n",
    "print('Response 2:', response2.json())"
   ]
  },
  {
   "cell_type": "code",
   "execution_count": 7,
   "metadata": {},
   "outputs": [],
   "source": [
    "# test switch model"
   ]
  },
  {
   "cell_type": "code",
   "execution_count": 8,
   "metadata": {},
   "outputs": [
    {
     "name": "stdout",
     "output_type": "stream",
     "text": [
      "Response 3: {'response': \"Here's one:\\n\\nWhy did the scarecrow win an award?\\n\\nBecause he was outstanding in his field!\"}\n"
     ]
    }
   ],
   "source": [
    "# Define the JSON payload for the second request\n",
    "payload3 = {\n",
    "    'message': 'tell me a joke',\n",
    "    'model_id':\"\"  \n",
    "}\n",
    "\n",
    "# Send the second POST request\n",
    "response3 = session.post(url, json=payload3)\n",
    "print('Response 3:', response3.json())"
   ]
  }
 ],
 "metadata": {
  "kernelspec": {
   "display_name": "venv",
   "language": "python",
   "name": "python3"
  },
  "language_info": {
   "codemirror_mode": {
    "name": "ipython",
    "version": 3
   },
   "file_extension": ".py",
   "mimetype": "text/x-python",
   "name": "python",
   "nbconvert_exporter": "python",
   "pygments_lexer": "ipython3",
   "version": "3.10.14"
  }
 },
 "nbformat": 4,
 "nbformat_minor": 2
}
